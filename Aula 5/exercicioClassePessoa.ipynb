{
 "cells": [
  {
   "cell_type": "code",
   "execution_count": 1,
   "id": "88bb9f1e-85eb-40a3-a7c3-3469c12b72d2",
   "metadata": {},
   "outputs": [],
   "source": [
    "class Pessoa:\n",
    "    def __init__(self, nome, idade):\n",
    "        self.nome = nome\n",
    "        self.idade = idade\n",
    "\n",
    "    def faz_aniversario(self):\n",
    "        self.idade += 1\n",
    "\n",
    "    def __str__(self):\n",
    "        return f\"{self.nome}, {self.idade} anos\""
   ]
  },
  {
   "cell_type": "code",
   "execution_count": 2,
   "id": "be59a109-5d90-4725-af8c-de67af4e8f20",
   "metadata": {},
   "outputs": [],
   "source": [
    "pessoa1 = Pessoa(\"Raphael\", 22)\n",
    "pessoa2 = Pessoa(\"Evillyn\", 21)"
   ]
  },
  {
   "cell_type": "code",
   "execution_count": 3,
   "id": "17a5204c-abcd-4f5a-b241-d5f62d34fbf8",
   "metadata": {},
   "outputs": [
    {
     "name": "stdout",
     "output_type": "stream",
     "text": [
      "Antes do aniversário:\n",
      "Raphael, 22 anos\n",
      "Evillyn, 21 anos\n"
     ]
    }
   ],
   "source": [
    "print(\"Antes do aniversário:\")\n",
    "print(pessoa1)\n",
    "print(pessoa2)"
   ]
  },
  {
   "cell_type": "code",
   "execution_count": 4,
   "id": "49dd8f7c-8c29-4df9-96ce-0d71aeea705d",
   "metadata": {},
   "outputs": [],
   "source": [
    "pessoa1.faz_aniversario()\n",
    "pessoa2.faz_aniversario()"
   ]
  },
  {
   "cell_type": "code",
   "execution_count": 5,
   "id": "d0d93573-10d7-4442-924f-12884a18bca3",
   "metadata": {},
   "outputs": [
    {
     "name": "stdout",
     "output_type": "stream",
     "text": [
      "Depois do aniversário:\n",
      "Raphael, 23 anos\n",
      "Evillyn, 22 anos\n"
     ]
    }
   ],
   "source": [
    "print(\"Depois do aniversário:\")\n",
    "print(pessoa1)\n",
    "print(pessoa2)"
   ]
  },
  {
   "cell_type": "code",
   "execution_count": null,
   "id": "d53eb6f9-056e-4cc7-9c48-c3ca93360079",
   "metadata": {},
   "outputs": [],
   "source": []
  }
 ],
 "metadata": {
  "kernelspec": {
   "display_name": "Python 3 (ipykernel)",
   "language": "python",
   "name": "python3"
  },
  "language_info": {
   "codemirror_mode": {
    "name": "ipython",
    "version": 3
   },
   "file_extension": ".py",
   "mimetype": "text/x-python",
   "name": "python",
   "nbconvert_exporter": "python",
   "pygments_lexer": "ipython3",
   "version": "3.13.5"
  }
 },
 "nbformat": 4,
 "nbformat_minor": 5
}
