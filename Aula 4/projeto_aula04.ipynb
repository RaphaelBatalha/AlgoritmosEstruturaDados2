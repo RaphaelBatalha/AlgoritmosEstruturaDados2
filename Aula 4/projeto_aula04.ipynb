{
 "cells": [
  {
   "cell_type": "code",
   "execution_count": 48,
   "id": "83909141-436c-4b30-807a-3103e93d06c1",
   "metadata": {},
   "outputs": [],
   "source": [
    "def busca_binaria (titulo, lista_livros):\n",
    "    esquerda = 0\n",
    "    direita = len(lista_livros) - 1\n",
    "    while esquerda <= direita:\n",
    "        meio = (esquerda + direita) // 2\n",
    "        titulo_atual = lista_livros[meio][0]\n",
    "        if titulo.upper() == titulo_atual.upper():\n",
    "            return meio\n",
    "        elif titulo.upper() > titulo_atual.upper():\n",
    "            esquerda = meio + 1\n",
    "        else:\n",
    "            direita = meio - 1\n",
    "    return -1"
   ]
  },
  {
   "cell_type": "code",
   "execution_count": 40,
   "id": "40a82827-46fc-4821-af4a-80d6942fd535",
   "metadata": {},
   "outputs": [],
   "source": [
    "livros = [\n",
    "    (\"Barcelona\", \"Lionel Messi\", 2009)\n",
    "    ,(\"Cafe com Biblia 365\", \"Gad Bens\", 2024)\n",
    "    ,(\"Don Casmurro\", \"Leandro Perez\", 1984)\n",
    "    ,(\"O Jogo da Imitacao\", \"Alan Turing\", 1888)\n",
    "    ,(\"Pineaut: a Universidade\", \"Universal\", 2000)\n",
    "]"
   ]
  },
  {
   "cell_type": "code",
   "execution_count": 56,
   "id": "53a4c183-332d-4938-aecc-c98b454a7778",
   "metadata": {},
   "outputs": [
    {
     "name": "stdin",
     "output_type": "stream",
     "text": [
      "Digite o título do livro para buscá-lo:  don casmurro\n"
     ]
    }
   ],
   "source": [
    "titulo = input(\"Digite o título do livro para buscá-lo: \")"
   ]
  },
  {
   "cell_type": "code",
   "execution_count": 57,
   "id": "795fd591-2d39-4c14-96f1-f384a12e3150",
   "metadata": {},
   "outputs": [
    {
     "name": "stdout",
     "output_type": "stream",
     "text": [
      "Indice: 2\n"
     ]
    }
   ],
   "source": [
    "indice = busca_binaria(titulo, livros)\n",
    "print(f\"Indice: {indice}\")"
   ]
  },
  {
   "cell_type": "code",
   "execution_count": 58,
   "id": "b5e18974-9a73-433f-87f0-cd652466b92b",
   "metadata": {},
   "outputs": [
    {
     "name": "stdout",
     "output_type": "stream",
     "text": [
      "Título do livro: Don Casmurro\n",
      "Autor do livro: Leandro Perez\n",
      "Ano do livro: 1984\n"
     ]
    }
   ],
   "source": [
    "if indice >= 0:\n",
    "    print(f\"Título do livro: {livros[indice][0]}\")\n",
    "    print(f\"Autor do livro: {livros[indice][1]}\")\n",
    "    print(f\"Ano do livro: {livros[indice][2]}\")\n",
    "else:\n",
    "    print(\"Livro não encontrado!\")"
   ]
  },
  {
   "cell_type": "code",
   "execution_count": null,
   "id": "a34602dd-e009-415c-be53-55f9c71beb81",
   "metadata": {},
   "outputs": [],
   "source": []
  }
 ],
 "metadata": {
  "kernelspec": {
   "display_name": "Python 3 (ipykernel)",
   "language": "python",
   "name": "python3"
  },
  "language_info": {
   "codemirror_mode": {
    "name": "ipython",
    "version": 3
   },
   "file_extension": ".py",
   "mimetype": "text/x-python",
   "name": "python",
   "nbconvert_exporter": "python",
   "pygments_lexer": "ipython3",
   "version": "3.13.5"
  }
 },
 "nbformat": 4,
 "nbformat_minor": 5
}
