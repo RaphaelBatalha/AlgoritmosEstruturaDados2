{
 "cells": [
  {
   "cell_type": "code",
   "execution_count": 17,
   "id": "58969b36-00c5-4beb-9dd4-1f2525a60626",
   "metadata": {},
   "outputs": [],
   "source": [
    "def buscar_cliente(nome, lista):\n",
    "    for i in range(len(lista)):\n",
    "        if lista[i].lower() == nome.lower():\n",
    "            return i\n",
    "    return -1"
   ]
  },
  {
   "cell_type": "code",
   "execution_count": 18,
   "id": "c3d35b7b-4857-4d87-a625-4abfe59edd55",
   "metadata": {},
   "outputs": [],
   "source": [
    "lista_nomes = [\"Ana\", \"Pedro\", \"José\", \"Maximus\", \"Mariana\", \"Marcos\"]"
   ]
  },
  {
   "cell_type": "code",
   "execution_count": 19,
   "id": "b9ad3203-b5ed-4eb8-9159-dc6fac7fa712",
   "metadata": {
    "collapsed": true,
    "jupyter": {
     "outputs_hidden": true
    },
    "scrolled": true
   },
   "outputs": [
    {
     "name": "stdin",
     "output_type": "stream",
     "text": [
      "Digite o nome <'sair' para sair>:  maximus\n"
     ]
    },
    {
     "name": "stdout",
     "output_type": "stream",
     "text": [
      "O nome maximus foi encontrado na posição 3\n"
     ]
    },
    {
     "name": "stdin",
     "output_type": "stream",
     "text": [
      "Digite o nome <'sair' para sair>:  ana\n"
     ]
    },
    {
     "name": "stdout",
     "output_type": "stream",
     "text": [
      "O nome ana foi encontrado na posição 0\n"
     ]
    },
    {
     "name": "stdin",
     "output_type": "stream",
     "text": [
      "Digite o nome <'sair' para sair>:  maria\n"
     ]
    },
    {
     "name": "stdout",
     "output_type": "stream",
     "text": [
      "Nome não encontrado\n"
     ]
    },
    {
     "name": "stdin",
     "output_type": "stream",
     "text": [
      "Digite o nome <'sair' para sair>:  sair\n"
     ]
    }
   ],
   "source": [
    "while True:\n",
    "    n = input(\"Digite o nome <'sair' para sair>: \")\n",
    "    if n.lower() == \"sair\":\n",
    "        break\n",
    "    else:\n",
    "        i = buscar_cliente(n, lista_nomes)\n",
    "        if i == -1:\n",
    "            print(\"Nome não encontrado!\")\n",
    "        else:\n",
    "            print(f\"O nome {n} foi encontrado na posição {i}\")"
   ]
  },
  {
   "cell_type": "code",
   "execution_count": 31,
   "id": "75389f6e-6420-487e-9d93-f8b4fc87cf97",
   "metadata": {},
   "outputs": [],
   "source": [
    "#PROJETO 2\n",
    "def esta_na_lista(convidado, lista):\n",
    "    for i in range(len(lista)):\n",
    "        if lista[i].lower() == convidado.lower():\n",
    "            return True\n",
    "    return False"
   ]
  },
  {
   "cell_type": "code",
   "execution_count": 32,
   "id": "8e109068-5e02-41b8-9b13-214da4c0b0af",
   "metadata": {},
   "outputs": [],
   "source": [
    "lista = [\"Guilherme\", \"Thigas\", \"Lucão\", \"João Gabreiel\", \"Christianano Ronaldo\", \"Raphael\"]"
   ]
  },
  {
   "cell_type": "code",
   "execution_count": 34,
   "id": "70a9bdbf-18c7-4466-aea4-deff71a8987a",
   "metadata": {},
   "outputs": [
    {
     "name": "stdin",
     "output_type": "stream",
     "text": [
      "Digite o convidado, por gentileza:  Raphael\n"
     ]
    }
   ],
   "source": [
    "nome = input(\"Digite o convidado, por gentileza: \")"
   ]
  },
  {
   "cell_type": "code",
   "execution_count": 35,
   "id": "df7dcc97-457a-47b3-97ca-5674028233e6",
   "metadata": {},
   "outputs": [
    {
     "name": "stdout",
     "output_type": "stream",
     "text": [
      "O convidado Raphael está na lista!\n"
     ]
    }
   ],
   "source": [
    "if esta_na_lista(nome, lista):\n",
    "    print(f\"O convidado {nome} está na lista!\")\n",
    "else:\n",
    "    print(f\"O nome {nome} não está na lista!\")"
   ]
  }
 ],
 "metadata": {
  "kernelspec": {
   "display_name": "Python 3 (ipykernel)",
   "language": "python",
   "name": "python3"
  },
  "language_info": {
   "codemirror_mode": {
    "name": "ipython",
    "version": 3
   },
   "file_extension": ".py",
   "mimetype": "text/x-python",
   "name": "python",
   "nbconvert_exporter": "python",
   "pygments_lexer": "ipython3",
   "version": "3.13.5"
  }
 },
 "nbformat": 4,
 "nbformat_minor": 5
}
